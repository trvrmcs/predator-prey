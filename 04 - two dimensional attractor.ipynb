{
 "cells": [
  {
   "attachments": {},
   "cell_type": "markdown",
   "metadata": {},
   "source": [
    "Draw the attractor for a given $a,b$"
   ]
  },
  {
   "cell_type": "code",
   "execution_count": 2,
   "metadata": {},
   "outputs": [],
   "source": [
    "import plotly.graph_objects as go\n",
    "from numba import jit "
   ]
  },
  {
   "cell_type": "code",
   "execution_count": 10,
   "metadata": {},
   "outputs": [],
   "source": [
    "\n",
    "\n",
    "@jit(nopython=True)\n",
    "def simulate(a,b, iterations):\n",
    "    x,y=0.5,0.5\n",
    "\n",
    "    for t in range(iterations):\n",
    "        x,y=(\n",
    "            a * x * (1-x) * (1-y),\n",
    "            b * y * (1-y) * x\n",
    "        )\n",
    "\n",
    "        if t>1000:\n",
    "            yield x,y"
   ]
  },
  {
   "cell_type": "code",
   "execution_count": 13,
   "metadata": {},
   "outputs": [],
   "source": [
    "def plot(a,b, marker_size=1, iterations=10_000):\n",
    "    points=list(simulate(a,b, iterations))\n",
    "    X,Y=zip(*points)\n",
    "    figure = go.Figure(\n",
    "    data=[\n",
    "            go.Scattergl(\n",
    "                x=X,\n",
    "                y=Y,\n",
    "                mode='markers',\n",
    "                marker=dict(size=marker_size, color='black'),\n",
    "                \n",
    "            ) \n",
    "        ],\n",
    "        layout=go.Layout(width=800, height=800)\n",
    "    )\n",
    "     \n",
    "\n",
    "    figure.update_xaxes(range=[0,1])\n",
    "    figure.update_yaxes(range=[0,1])\n",
    "    return figure"
   ]
  },
  {
   "cell_type": "code",
   "execution_count": 41,
   "metadata": {},
   "outputs": [],
   "source": [
    "# plot(a=5.0, b=3.0, marker_size=5)\n",
    "#plot(a=5.0, b=3.3, marker_size=5)\n",
    "# plot(a=5.0, b=3.4)\n",
    "#plot(a=5.0, b=3.8)\n",
    "#plot(a=5.41, b=3.89, iterations=1_000_000)"
   ]
  },
  {
   "cell_type": "code",
   "execution_count": null,
   "metadata": {},
   "outputs": [],
   "source": []
  }
 ],
 "metadata": {
  "kernelspec": {
   "display_name": "Python 3",
   "language": "python",
   "name": "python3"
  },
  "language_info": {
   "codemirror_mode": {
    "name": "ipython",
    "version": 3
   },
   "file_extension": ".py",
   "mimetype": "text/x-python",
   "name": "python",
   "nbconvert_exporter": "python",
   "pygments_lexer": "ipython3",
   "version": "3.11.3"
  },
  "orig_nbformat": 4
 },
 "nbformat": 4,
 "nbformat_minor": 2
}
